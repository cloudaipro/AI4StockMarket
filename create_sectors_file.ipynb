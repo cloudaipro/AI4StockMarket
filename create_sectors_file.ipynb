{
 "cells": [
  {
   "cell_type": "code",
   "execution_count": 1,
   "metadata": {},
   "outputs": [],
   "source": [
    "import yfinance as yfin\n",
    "import pandas as pd\n",
    "\n",
    "tickers_info = [yfin.Ticker(symbol) for symbol in stk_symbols]\n",
    "tickers_sector = {\n",
    "    t.info[\"symbol\"]: t.info[\"sector\"] if \"sector\" in t.info.keys() else \"\"\n",
    "    for t in tickers_info\n",
    "}\n",
    "tickers_sector_df = pd.DataFrame(\n",
    "    data={\n",
    "        \"symbol\": list(tickers_sector.keys()),\n",
    "        \"sector\": list(tickers_sector.values()),\n",
    "    }\n",
    ")\n",
    "tickers_sector_df.to_csv(\"sectors.csv\")"
   ]
  }
 ],
 "metadata": {
  "kernelspec": {
   "display_name": "ai3.9",
   "language": "python",
   "name": "python3"
  },
  "language_info": {
   "codemirror_mode": {
    "name": "ipython",
    "version": 3
   },
   "file_extension": ".py",
   "mimetype": "text/x-python",
   "name": "python",
   "nbconvert_exporter": "python",
   "pygments_lexer": "ipython3",
   "version": "3.9.18"
  }
 },
 "nbformat": 4,
 "nbformat_minor": 2
}
